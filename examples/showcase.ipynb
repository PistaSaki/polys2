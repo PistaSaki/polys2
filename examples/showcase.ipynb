{
 "cells": [
  {
   "cell_type": "markdown",
   "metadata": {},
   "source": [
    "# Imports"
   ]
  },
  {
   "cell_type": "code",
   "execution_count": 1,
   "metadata": {
    "ExecuteTime": {
     "end_time": "2020-06-02T12:43:57.492413Z",
     "start_time": "2020-06-02T12:43:55.059967Z"
    }
   },
   "outputs": [],
   "source": [
    "import numpy as np\n",
    "import itertools as itt\n",
    "import tensorflow as tf\n",
    "from tensorflow.keras import backend as K\n",
    "\n",
    "import numpy.linalg as la\n",
    "\n",
    "import scipy.stats as st\n",
    "import numpy.random as rnd\n",
    "\n",
    "import matplotlib.pyplot as pl\n",
    "%matplotlib inline\n",
    "\n",
    "from importlib import reload\n",
    "\n",
    "import ipywidgets as ipw"
   ]
  },
  {
   "cell_type": "code",
   "execution_count": 2,
   "metadata": {
    "ExecuteTime": {
     "end_time": "2020-06-02T12:43:57.507486Z",
     "start_time": "2020-06-02T12:43:57.493333Z"
    }
   },
   "outputs": [],
   "source": [
    "from polys2 import Poly, PolyMesh, TaylorGrid"
   ]
  },
  {
   "cell_type": "code",
   "execution_count": 3,
   "metadata": {
    "ExecuteTime": {
     "end_time": "2020-06-02T12:43:57.516351Z",
     "start_time": "2020-06-02T12:43:57.509333Z"
    },
    "code_folding": []
   },
   "outputs": [
    {
     "data": {
      "text/html": [
       "<style>.container { width:100% !important; }</style>"
      ],
      "text/plain": [
       "<IPython.core.display.HTML object>"
      ]
     },
     "execution_count": 3,
     "metadata": {},
     "output_type": "execute_result"
    }
   ],
   "source": [
    "## changing the width of cells\n",
    "from IPython.core.display import HTML\n",
    "HTML(\"<style>.container { width:100% !important; }</style>\")"
   ]
  },
  {
   "cell_type": "markdown",
   "metadata": {},
   "source": [
    "## Auxilliary methods for working with batches"
   ]
  },
  {
   "cell_type": "code",
   "execution_count": 4,
   "metadata": {
    "ExecuteTime": {
     "end_time": "2020-06-02T12:43:57.523345Z",
     "start_time": "2020-06-02T12:43:57.519348Z"
    }
   },
   "outputs": [],
   "source": [
    "import polys2.batch_utils as pib"
   ]
  },
  {
   "cell_type": "code",
   "execution_count": 5,
   "metadata": {
    "ExecuteTime": {
     "end_time": "2020-06-02T12:43:57.531335Z",
     "start_time": "2020-06-02T12:43:57.525332Z"
    },
    "code_folding": []
   },
   "outputs": [],
   "source": [
    "def plot_batched_objects(objs, names = None, subplots_kwargs = {}):\n",
    "    if names is None:\n",
    "        names = [ \"obj_\" + str(i) for i, o in enumerate(objs) ]\n",
    "       \n",
    "    def fun(ii):\n",
    "        print(\"batch_index =\", ii)\n",
    "        fig, axs = pl.subplots(nrows=1, ncols=len(objs), figsize= (5 * len(objs), 5), **subplots_kwargs)\n",
    "        axs = np.array(axs, dtype = np.object)\n",
    "        for name, obj, ax in zip(names, objs, axs.flat):\n",
    "            pl.sca(ax)\n",
    "            ax.set_title(name)\n",
    "            obj.batch[ii].plot()\n",
    "            \n",
    "    pib.interact_along_batch(\n",
    "        batch_shape = pib.get_common_broadcasted_shape([obj.batch_shape for obj in objs]), \n",
    "        display_fun = fun\n",
    "    )"
   ]
  },
  {
   "cell_type": "markdown",
   "metadata": {},
   "source": [
    "# Poly class - simple examples\n",
    "#### 1D example"
   ]
  },
  {
   "cell_type": "code",
   "execution_count": 6,
   "metadata": {
    "ExecuteTime": {
     "end_time": "2020-06-02T12:43:58.217982Z",
     "start_time": "2020-06-02T12:43:57.533333Z"
    }
   },
   "outputs": [
    {
     "data": {
      "text/plain": [
       "Poly( tf.Tensor([1. 2.], shape=(2,), dtype=float32) )"
      ]
     },
     "execution_count": 6,
     "metadata": {},
     "output_type": "execute_result"
    }
   ],
   "source": [
    "g = Poly(tf.constant([1, 2], dtype=K.floatx()))\n",
    "g"
   ]
  },
  {
   "cell_type": "code",
   "execution_count": 7,
   "metadata": {
    "ExecuteTime": {
     "end_time": "2020-06-02T12:43:59.204019Z",
     "start_time": "2020-06-02T12:43:58.218983Z"
    }
   },
   "outputs": [
    {
     "data": {
      "text/plain": [
       "Poly( tf.Tensor([1. 4. 4.], shape=(3,), dtype=float32) )"
      ]
     },
     "execution_count": 7,
     "metadata": {},
     "output_type": "execute_result"
    }
   ],
   "source": [
    "g * g"
   ]
  },
  {
   "cell_type": "code",
   "execution_count": 8,
   "metadata": {
    "ExecuteTime": {
     "end_time": "2020-06-02T12:43:59.213019Z",
     "start_time": "2020-06-02T12:43:59.205985Z"
    }
   },
   "outputs": [
    {
     "data": {
      "text/plain": [
       "<tf.Tensor: shape=(), dtype=float32, numpy=3.0>"
      ]
     },
     "execution_count": 8,
     "metadata": {},
     "output_type": "execute_result"
    }
   ],
   "source": [
    "## evaluate `g`\n",
    "t = tf.Variable([1], dtype = K.floatx())\n",
    "g(t)"
   ]
  },
  {
   "cell_type": "code",
   "execution_count": 9,
   "metadata": {
    "ExecuteTime": {
     "end_time": "2020-06-02T12:43:59.220983Z",
     "start_time": "2020-06-02T12:43:59.213982Z"
    }
   },
   "outputs": [
    {
     "data": {
      "text/plain": [
       "Poly( tf.Tensor([1. 0. 1.], shape=(3,), dtype=float32) )"
      ]
     },
     "execution_count": 9,
     "metadata": {},
     "output_type": "execute_result"
    }
   ],
   "source": [
    "f = Poly(tf.constant([1, 0, 1], dtype = K.floatx()))\n",
    "f"
   ]
  },
  {
   "cell_type": "code",
   "execution_count": 10,
   "metadata": {
    "ExecuteTime": {
     "end_time": "2020-06-02T12:43:59.899023Z",
     "start_time": "2020-06-02T12:43:59.222988Z"
    },
    "scrolled": true
   },
   "outputs": [
    {
     "data": {
      "text/plain": [
       "[Poly( tf.Tensor([1. 0. 2. 0. 1.], shape=(5,), dtype=float32) ),\n",
       " Poly( tf.Tensor([3. 0. 3.], shape=(3,), dtype=float32) ),\n",
       " Poly( tf.Tensor([2. 2. 1.], shape=(3,), dtype=float32) ),\n",
       " Poly( tf.Tensor([4. 0. 1.], shape=(3,), dtype=float32) ),\n",
       " Poly( tf.Tensor([1. 0.], shape=(2,), dtype=float32) ),\n",
       " Poly( tf.Tensor([2.7182817 0.        2.7182817], shape=(3,), dtype=float32) )]"
      ]
     },
     "execution_count": 10,
     "metadata": {},
     "output_type": "execute_result"
    }
   ],
   "source": [
    "[f*f, f*3, f + g, f + 3, f.truncate_degs(2), f.truncated_exp()]"
   ]
  },
  {
   "cell_type": "markdown",
   "metadata": {},
   "source": [
    "#### 2D example"
   ]
  },
  {
   "cell_type": "code",
   "execution_count": 11,
   "metadata": {
    "ExecuteTime": {
     "end_time": "2020-06-02T12:43:59.907986Z",
     "start_time": "2020-06-02T12:43:59.900017Z"
    }
   },
   "outputs": [],
   "source": [
    "# 2D example\n",
    "f = Poly(tf.constant(rnd.randint(-3, 3, size = (10, 1, 6)), K.floatx()), batch_ndim=1)\n",
    "g = Poly(tf.constant(rnd.randint(-3, 3, size = (10, 2, 1)), K.floatx()), batch_ndim=1)"
   ]
  },
  {
   "cell_type": "code",
   "execution_count": 12,
   "metadata": {
    "ExecuteTime": {
     "end_time": "2020-06-02T12:44:00.580737Z",
     "start_time": "2020-06-02T12:43:59.908985Z"
    }
   },
   "outputs": [
    {
     "name": "stdout",
     "output_type": "stream",
     "text": [
      "WARNING:tensorflow:5 out of the last 5 calls to <function poly_prod at 0x0000014AC75A0AF8> triggered tf.function retracing. Tracing is expensive and the excessive number of tracings is likely due to passing python objects instead of tensors. Also, tf.function has experimental_relax_shapes=True option that relaxes argument shapes that can avoid unnecessary retracing. Please refer to https://www.tensorflow.org/tutorials/customization/performance#python_or_tensor_args and https://www.tensorflow.org/api_docs/python/tf/function for more details.\n",
      "WARNING:tensorflow:6 out of the last 7 calls to <function poly_prod at 0x0000014AC75A0AF8> triggered tf.function retracing. Tracing is expensive and the excessive number of tracings is likely due to passing python objects instead of tensors. Also, tf.function has experimental_relax_shapes=True option that relaxes argument shapes that can avoid unnecessary retracing. Please refer to https://www.tensorflow.org/tutorials/customization/performance#python_or_tensor_args and https://www.tensorflow.org/api_docs/python/tf/function for more details.\n",
      "WARNING:tensorflow:7 out of the last 11 calls to <function poly_prod at 0x0000014AC75A0AF8> triggered tf.function retracing. Tracing is expensive and the excessive number of tracings is likely due to passing python objects instead of tensors. Also, tf.function has experimental_relax_shapes=True option that relaxes argument shapes that can avoid unnecessary retracing. Please refer to https://www.tensorflow.org/tutorials/customization/performance#python_or_tensor_args and https://www.tensorflow.org/api_docs/python/tf/function for more details.\n"
     ]
    },
    {
     "data": {
      "application/vnd.jupyter.widget-view+json": {
       "model_id": "b52d181b038146169c33bf53bf9a37cb",
       "version_major": 2,
       "version_minor": 0
      },
      "text/plain": [
       "interactive(children=(IntSlider(value=0, description='i0', max=9), Output()), _dom_classes=('widget-interact',…"
      ]
     },
     "metadata": {},
     "output_type": "display_data"
    }
   ],
   "source": [
    "pib.print_batched_objects(\n",
    "    objs = [f, g, f * g, f + g, (f*g).truncate_degs(2), f.truncated_exp()], \n",
    "    names = [\"f\", \"g\",  \"f * g\", \"f + g\", \"trunc(f*g)\", \"exp(f)\"]\n",
    ")"
   ]
  },
  {
   "cell_type": "code",
   "execution_count": 13,
   "metadata": {
    "ExecuteTime": {
     "end_time": "2020-06-02T12:44:04.031976Z",
     "start_time": "2020-06-02T12:44:00.581708Z"
    }
   },
   "outputs": [
    {
     "data": {
      "application/vnd.jupyter.widget-view+json": {
       "model_id": "d7c0c85d82cc4a3987a3c615bccbd2dc",
       "version_major": 2,
       "version_minor": 0
      },
      "text/plain": [
       "interactive(children=(IntSlider(value=0, description='i0', max=9), Output()), _dom_classes=('widget-interact',…"
      ]
     },
     "metadata": {},
     "output_type": "display_data"
    }
   ],
   "source": [
    "plot_batched_objects([f, g, f * g, f + g], names = [\"f\", \"g\",  \"f * g\", \"f + g\"], \n",
    "                     subplots_kwargs={\"sharex\": True, \"sharey\":True})"
   ]
  },
  {
   "cell_type": "markdown",
   "metadata": {},
   "source": [
    "### Evaluation of Poly"
   ]
  },
  {
   "cell_type": "code",
   "execution_count": 14,
   "metadata": {
    "ExecuteTime": {
     "end_time": "2020-06-02T12:44:04.037925Z",
     "start_time": "2020-06-02T12:44:04.032925Z"
    }
   },
   "outputs": [],
   "source": [
    "x = tf.Variable([1, 2], name=\"x\", dtype=K.floatx())"
   ]
  },
  {
   "cell_type": "code",
   "execution_count": 15,
   "metadata": {
    "ExecuteTime": {
     "end_time": "2020-06-02T12:44:04.047941Z",
     "start_time": "2020-06-02T12:44:04.039926Z"
    }
   },
   "outputs": [
    {
     "data": {
      "text/plain": [
       "<tf.Tensor: shape=(10,), dtype=float32, numpy=\n",
       "array([ -17.,  -27.,    4.,    5.,    1.,  -22.,   24., -106.,    7.,\n",
       "        -28.], dtype=float32)>"
      ]
     },
     "execution_count": 15,
     "metadata": {},
     "output_type": "execute_result"
    }
   ],
   "source": [
    "## `f` is a batched polynomial, thus to evaluate every one at `x` \n",
    "## we need to add one batch-dimension also to `x`\n",
    "f(x[None, :])"
   ]
  },
  {
   "cell_type": "markdown",
   "metadata": {},
   "source": [
    "# Other classes: `TaylorGrid`, `PolyMesh`"
   ]
  },
  {
   "cell_type": "markdown",
   "metadata": {},
   "source": [
    "### Gaussian pdf"
   ]
  },
  {
   "cell_type": "markdown",
   "metadata": {},
   "source": [
    "Generate batches of precision matrices `prec` and means `mu`. You can choose `n` = 1 or 2."
   ]
  },
  {
   "cell_type": "code",
   "execution_count": 19,
   "metadata": {
    "ExecuteTime": {
     "end_time": "2020-06-02T12:45:35.811817Z",
     "start_time": "2020-06-02T12:45:35.723701Z"
    },
    "code_folding": []
   },
   "outputs": [],
   "source": [
    "n = 1\n",
    "batch_ndim = 1\n",
    "n_samples = 5000\n",
    "\n",
    "def random_prec():\n",
    "    scaling = np.diag(rnd.uniform(0, 1 , size = n)) \n",
    "    phi = rnd.uniform(0, 2 * np.pi)\n",
    "    if n == 2:\n",
    "        rotation = np.array([\n",
    "            [np.cos(phi), - np.sin(phi)], \n",
    "            [np.sin(phi), np.cos(phi)]\n",
    "        ])\n",
    "    else:\n",
    "        rotation = np.array([[1]])\n",
    "    return rotation @ scaling @ rotation.T\n",
    "        \n",
    "prec = tf.constant([random_prec() for i in range(n_samples)], K.floatx())\n",
    "\n",
    "mu = tf.constant(rnd.randint(-1, 2, size=(n_samples, n)), K.floatx())\n",
    "params = [tf.linspace(-4., 4., 20)]*n"
   ]
  },
  {
   "cell_type": "markdown",
   "metadata": {},
   "source": [
    "Construct TaylorGrid taylors of Gauss PDF and the coresponding spline PolyMesh approximation"
   ]
  },
  {
   "cell_type": "code",
   "execution_count": 20,
   "metadata": {
    "ExecuteTime": {
     "end_time": "2020-06-02T12:45:53.457810Z",
     "start_time": "2020-06-02T12:45:53.442787Z"
    },
    "scrolled": false
   },
   "outputs": [
    {
     "ename": "TypeError",
     "evalue": "unsupported operand type(s) for -: 'function' and 'int'",
     "output_type": "error",
     "traceback": [
      "\u001b[1;31m---------------------------------------------------------------------------\u001b[0m",
      "\u001b[1;31mTypeError\u001b[0m                                 Traceback (most recent call last)",
      "\u001b[1;32m<ipython-input-20-4a6df0dbab9b>\u001b[0m in \u001b[0;36m<module>\u001b[1;34m\u001b[0m\n\u001b[1;32m----> 1\u001b[1;33m \u001b[0mtg\u001b[0m \u001b[1;33m=\u001b[0m \u001b[0mTaylorGrid\u001b[0m\u001b[1;33m.\u001b[0m\u001b[0mfrom_Gauss_pdf\u001b[0m\u001b[1;33m(\u001b[0m\u001b[0mparams\u001b[0m\u001b[1;33m,\u001b[0m \u001b[0mmu\u001b[0m\u001b[1;33m,\u001b[0m \u001b[0mK\u001b[0m\u001b[1;33m,\u001b[0m \u001b[0mbatch_ndim\u001b[0m\u001b[1;33m,\u001b[0m \u001b[0mvar_ndim\u001b[0m\u001b[1;33m=\u001b[0m \u001b[0mn\u001b[0m\u001b[1;33m)\u001b[0m\u001b[1;33m\u001b[0m\u001b[1;33m\u001b[0m\u001b[0m\n\u001b[0m\u001b[0;32m      2\u001b[0m \u001b[0mspline0\u001b[0m \u001b[1;33m=\u001b[0m \u001b[0mtg\u001b[0m\u001b[1;33m.\u001b[0m\u001b[0mget_spline\u001b[0m\u001b[1;33m(\u001b[0m\u001b[1;33m)\u001b[0m\u001b[1;33m\u001b[0m\u001b[1;33m\u001b[0m\u001b[0m\n",
      "\u001b[1;32md:\\git\\workon_hrab2\\polys2\\polys2\\taylor_grid.py\u001b[0m in \u001b[0;36mfrom_Gauss_pdf\u001b[1;34m(params, mu, K, batch_ndim, var_ndim)\u001b[0m\n\u001b[0;32m    258\u001b[0m \u001b[1;33m\u001b[0m\u001b[0m\n\u001b[0;32m    259\u001b[0m         assert (\n\u001b[1;32m--> 260\u001b[1;33m             \u001b[1;33m(\u001b[0m\u001b[0mbatch_ndim\u001b[0m \u001b[1;33m==\u001b[0m \u001b[0mnptf\u001b[0m\u001b[1;33m.\u001b[0m\u001b[0mndim\u001b[0m\u001b[1;33m(\u001b[0m\u001b[0mmu\u001b[0m\u001b[1;33m)\u001b[0m \u001b[1;33m-\u001b[0m \u001b[1;36m1\u001b[0m \u001b[1;33m==\u001b[0m \u001b[0mnptf\u001b[0m\u001b[1;33m.\u001b[0m\u001b[0mndim\u001b[0m\u001b[1;33m(\u001b[0m\u001b[0mK\u001b[0m\u001b[1;33m)\u001b[0m \u001b[1;33m-\u001b[0m \u001b[1;36m2\u001b[0m\u001b[1;33m)\u001b[0m \u001b[1;32mand\u001b[0m\u001b[1;33m\u001b[0m\u001b[1;33m\u001b[0m\u001b[0m\n\u001b[0m\u001b[0;32m    261\u001b[0m             \u001b[1;33m(\u001b[0m\u001b[0mvar_ndim\u001b[0m \u001b[1;33m==\u001b[0m \u001b[0mmu\u001b[0m\u001b[1;33m.\u001b[0m\u001b[0mshape\u001b[0m\u001b[1;33m[\u001b[0m\u001b[1;33m-\u001b[0m\u001b[1;36m1\u001b[0m\u001b[1;33m]\u001b[0m \u001b[1;33m==\u001b[0m \u001b[0mK\u001b[0m\u001b[1;33m.\u001b[0m\u001b[0mshape\u001b[0m\u001b[1;33m[\u001b[0m\u001b[1;33m-\u001b[0m\u001b[1;36m1\u001b[0m\u001b[1;33m]\u001b[0m \u001b[1;33m==\u001b[0m \u001b[0mK\u001b[0m\u001b[1;33m.\u001b[0m\u001b[0mshape\u001b[0m\u001b[1;33m[\u001b[0m\u001b[1;33m-\u001b[0m\u001b[1;36m2\u001b[0m\u001b[1;33m]\u001b[0m \u001b[1;33m)\u001b[0m\u001b[1;33m\u001b[0m\u001b[1;33m\u001b[0m\u001b[0m\n\u001b[0;32m    262\u001b[0m         \u001b[1;33m)\u001b[0m\u001b[1;33m,\u001b[0m\u001b[1;33m(\u001b[0m\u001b[1;34m\"Problem with dimensions: mu.shape =\"\u001b[0m \u001b[1;33m+\u001b[0m \u001b[0mstr\u001b[0m\u001b[1;33m(\u001b[0m\u001b[0mmu\u001b[0m\u001b[1;33m.\u001b[0m\u001b[0mshape\u001b[0m\u001b[1;33m)\u001b[0m \u001b[1;33m+\u001b[0m\u001b[1;33m\u001b[0m\u001b[1;33m\u001b[0m\u001b[0m\n",
      "\u001b[1;31mTypeError\u001b[0m: unsupported operand type(s) for -: 'function' and 'int'"
     ]
    }
   ],
   "source": [
    "tg = TaylorGrid.from_Gauss_pdf(params, mu, K, batch_ndim, var_ndim= n)\n",
    "spline0 = tg.get_spline()"
   ]
  },
  {
   "cell_type": "code",
   "execution_count": null,
   "metadata": {
    "ExecuteTime": {
     "end_time": "2020-06-01T13:14:23.195674Z",
     "start_time": "2020-06-01T13:14:18.623Z"
    }
   },
   "outputs": [],
   "source": [
    "spline = run_in_session(spline0)"
   ]
  },
  {
   "cell_type": "code",
   "execution_count": null,
   "metadata": {
    "ExecuteTime": {
     "end_time": "2020-06-01T13:14:23.196674Z",
     "start_time": "2020-06-01T13:14:18.624Z"
    },
    "scrolled": true
   },
   "outputs": [],
   "source": [
    "spline.integrate()"
   ]
  },
  {
   "cell_type": "code",
   "execution_count": null,
   "metadata": {
    "ExecuteTime": {
     "end_time": "2020-06-01T13:14:23.197673Z",
     "start_time": "2020-06-01T13:14:18.626Z"
    }
   },
   "outputs": [],
   "source": [
    "run_in_session(tg.integrate_spline())"
   ]
  },
  {
   "cell_type": "code",
   "execution_count": null,
   "metadata": {
    "ExecuteTime": {
     "end_time": "2020-06-01T13:14:23.197673Z",
     "start_time": "2020-06-01T13:14:18.628Z"
    }
   },
   "outputs": [],
   "source": [
    "run_in_session(spline0.integrate())"
   ]
  },
  {
   "cell_type": "code",
   "execution_count": null,
   "metadata": {
    "ExecuteTime": {
     "end_time": "2020-06-01T13:14:23.198672Z",
     "start_time": "2020-06-01T13:14:18.629Z"
    }
   },
   "outputs": [],
   "source": [
    "%timeit run_in_session(spline0)"
   ]
  },
  {
   "cell_type": "code",
   "execution_count": null,
   "metadata": {
    "ExecuteTime": {
     "end_time": "2020-06-01T13:14:23.198672Z",
     "start_time": "2020-06-01T13:14:18.630Z"
    }
   },
   "outputs": [],
   "source": [
    "I1 = spline0.integrate()\n",
    "I2 = tg.integrate_spline()"
   ]
  },
  {
   "cell_type": "code",
   "execution_count": null,
   "metadata": {
    "ExecuteTime": {
     "end_time": "2020-06-01T13:14:23.199674Z",
     "start_time": "2020-06-01T13:14:18.632Z"
    }
   },
   "outputs": [],
   "source": [
    "%timeit run_in_session(I1)"
   ]
  },
  {
   "cell_type": "code",
   "execution_count": null,
   "metadata": {
    "ExecuteTime": {
     "end_time": "2020-06-01T13:14:23.200674Z",
     "start_time": "2020-06-01T13:14:18.633Z"
    }
   },
   "outputs": [],
   "source": [
    "%timeit run_in_session(I2)"
   ]
  },
  {
   "cell_type": "markdown",
   "metadata": {},
   "source": [
    "See the graphs of genuine PDF, our approximation and the approximation using Interpolators "
   ]
  },
  {
   "cell_type": "code",
   "execution_count": null,
   "metadata": {
    "ExecuteTime": {
     "end_time": "2020-06-01T13:14:23.200674Z",
     "start_time": "2020-06-01T13:14:18.636Z"
    }
   },
   "outputs": [],
   "source": [
    "import interpolators_03 as interpolators"
   ]
  },
  {
   "cell_type": "code",
   "execution_count": null,
   "metadata": {
    "ExecuteTime": {
     "end_time": "2020-06-01T13:14:23.201673Z",
     "start_time": "2020-06-01T13:14:18.637Z"
    },
    "code_folding": []
   },
   "outputs": [],
   "source": [
    "# if 2D use this visualization\n",
    "def fun(ii):\n",
    "    assert spline.var_ndim == 2, \"This visualization works only in 2D case.\"\n",
    "    f = spline.batch[ii]\n",
    "    \n",
    "    mu_val, K_val = run_in_session([mu, K])\n",
    "    print(\"mu =\" , mu_val[ii])\n",
    "    print(\"K =\" , K_val[ii])\n",
    "    f0 = st.multivariate_normal(mean = mu_val[ii], cov = la.inv(K_val[ii])).pdf\n",
    "\n",
    "    g = interpolators.Interpolator.from_fun(params, f0)\n",
    "\n",
    "    xxx, yyy = [np.linspace(par[0], par[-1], 100) for par in params]\n",
    "\n",
    "    fig, axs = pl.subplots(1, 3, figsize = [15, 4])\n",
    "    for ax in axs:\n",
    "        ax.set_aspect(\"equal\")\n",
    "\n",
    "    levels = None\n",
    "    for fun, title, ax  in zip([g, f, f0], [\"Catmull-Rom\", \"PolyMesh cubic spline\", \"genuine Gauss\"], axs):\n",
    "        pl.sca(ax)\n",
    "        fff = np.array([[ fun([x,y]) for y in yyy ] for x in xxx]).T\n",
    "        print(title, \"minimum is\", fff.min(), type(fun) )\n",
    "        cp = pl.contour( xxx, yyy, fff, \n",
    "            cmap=pl.cm.rainbow,\n",
    "            levels = levels\n",
    "        )\n",
    "        pl.clabel(cp)\n",
    "\n",
    "        pl.scatter(*zip(*itt.product(*params)), marker = \"+\")\n",
    "\n",
    "        ax.set_title(title)\n",
    "\n",
    "        levels = cp.levels\n",
    "        \n",
    "pib.interact_along_batch(spline.batch_shape, fun )"
   ]
  },
  {
   "cell_type": "code",
   "execution_count": null,
   "metadata": {
    "ExecuteTime": {
     "end_time": "2020-06-01T13:14:23.202677Z",
     "start_time": "2020-06-01T13:14:18.639Z"
    },
    "code_folding": []
   },
   "outputs": [],
   "source": [
    "# if 1D use this visualization\n",
    "def fun(ii):\n",
    "    assert spline.var_ndim == 1, \"This visualization works only in 1D case.\"\n",
    "    \n",
    "    f = spline.batch[ii]\n",
    "    \n",
    "    mu_val, K_val = run_in_session([mu, K])\n",
    "    print(\"mu =\" , mu_val[ii])\n",
    "    print(\"K =\" , K_val[ii])\n",
    "    f0 = st.multivariate_normal(mean = mu_val[ii], cov = la.inv(K_val[ii])).pdf\n",
    "    g = interpolators.Interpolator.from_fun(params, f0)\n",
    "    \n",
    "    par = params[0]\n",
    "    xxx = np.linspace(par[0], par[-1], 100)\n",
    "    for fun, title in zip([g, f, f0], [\"Catmull-Rom\", \"PolyMesh cubic spline\", \"genuine Gauss\"]):\n",
    "        yyy = [fun([x]) for x in xxx]\n",
    "        pl.plot(xxx, yyy, label = title)\n",
    "    \n",
    "    pl.legend(fontsize = 'xx-small')\n",
    "    \n",
    "pib.interact_along_batch(spline.batch_shape, fun )"
   ]
  },
  {
   "cell_type": "code",
   "execution_count": null,
   "metadata": {},
   "outputs": [],
   "source": []
  },
  {
   "cell_type": "markdown",
   "metadata": {},
   "source": [
    "### Splines from given Taylors at grid points"
   ]
  },
  {
   "cell_type": "markdown",
   "metadata": {},
   "source": [
    "A polynomial of high order that we approximate by a spline"
   ]
  },
  {
   "cell_type": "code",
   "execution_count": null,
   "metadata": {
    "ExecuteTime": {
     "end_time": "2020-06-01T13:14:23.203675Z",
     "start_time": "2020-06-01T13:14:18.642Z"
    }
   },
   "outputs": [],
   "source": [
    "f = Poly(np.array([1, -1, 4, 0,0, -3], dtype = floatX))"
   ]
  },
  {
   "cell_type": "code",
   "execution_count": null,
   "metadata": {
    "ExecuteTime": {
     "end_time": "2020-06-01T13:14:23.204675Z",
     "start_time": "2020-06-01T13:14:18.643Z"
    }
   },
   "outputs": [],
   "source": [
    "params = [np.array([0, 0.2, .5, 1], dtype=floatX)]\n",
    "tg_f = f.get_Taylor_grid(params, truncs = 2)\n",
    "spline_f = tg_f.get_spline()\n",
    "plot_batched_objects(\n",
    "    objs = [f, tg_f, spline_f], \n",
    "    names = [\"original poly\", \"truncated Taylors at grid\", \"spline reconstruction\"],\n",
    "    subplots_kwargs={\"sharex\": True, \"sharey\":True}\n",
    ")"
   ]
  },
  {
   "cell_type": "code",
   "execution_count": null,
   "metadata": {},
   "outputs": [],
   "source": []
  },
  {
   "cell_type": "markdown",
   "metadata": {},
   "source": [
    "### Evaluation of MeshGrid at TF points"
   ]
  },
  {
   "cell_type": "code",
   "execution_count": null,
   "metadata": {
    "ExecuteTime": {
     "end_time": "2020-06-01T13:14:23.205678Z",
     "start_time": "2020-06-01T13:14:18.647Z"
    }
   },
   "outputs": [],
   "source": [
    "spline_f(np.array([1.2]))"
   ]
  },
  {
   "cell_type": "code",
   "execution_count": null,
   "metadata": {
    "ExecuteTime": {
     "end_time": "2020-06-01T13:14:23.206676Z",
     "start_time": "2020-06-01T13:14:18.650Z"
    }
   },
   "outputs": [],
   "source": [
    "spline_f(t)"
   ]
  },
  {
   "cell_type": "markdown",
   "metadata": {},
   "source": [
    "### Catmull-Rom splines"
   ]
  },
  {
   "cell_type": "markdown",
   "metadata": {},
   "source": [
    "#### Example CR-01"
   ]
  },
  {
   "cell_type": "code",
   "execution_count": null,
   "metadata": {
    "ExecuteTime": {
     "end_time": "2020-06-01T13:14:23.207711Z",
     "start_time": "2020-06-01T13:14:18.652Z"
    }
   },
   "outputs": [],
   "source": [
    "xx = np.array([1, 2, 3, 4, 5], dtype=floatX)\n",
    "\n",
    "yy = tf.Variable(rnd.randint(10, size = [10, len(xx)]), dtype=floatX)\n",
    "\n",
    "taylors = TaylorGrid.from_Catmull_Rom(yy, params = [xx], batch_ndim=1)\n",
    "spline = taylors.get_spline()"
   ]
  },
  {
   "cell_type": "code",
   "execution_count": null,
   "metadata": {
    "ExecuteTime": {
     "end_time": "2020-06-01T13:14:23.208677Z",
     "start_time": "2020-06-01T13:14:18.654Z"
    }
   },
   "outputs": [],
   "source": [
    "def fun(iii):\n",
    "    taylors.batch[iii].plot(c = \"g\")\n",
    "    pl.scatter(xx, yy[iii])\n",
    "    spline.batch[iii].plot(c = \"b\")\n",
    "    \n",
    "\n",
    "pib.interact_along_batch(batch_shape=spline.batch_shape, display_fun=fun)"
   ]
  },
  {
   "cell_type": "markdown",
   "metadata": {},
   "source": [
    "#### Example CR-02"
   ]
  },
  {
   "cell_type": "code",
   "execution_count": null,
   "metadata": {
    "ExecuteTime": {
     "end_time": "2020-06-01T13:14:23.209692Z",
     "start_time": "2020-06-01T13:14:18.655Z"
    }
   },
   "outputs": [],
   "source": [
    "fig, axs = pl.subplots(2, 2, figsize = [10, 7])\n",
    "axs = axs.flat\n",
    "\n",
    "ax = axs[0]\n",
    "pl.sca(ax)\n",
    "ax.set_title(\"Spline approximation to a polynomial\")\n",
    "\n",
    "f = Poly(np.array([3, -1, 1, 0, -0.1]))\n",
    "\n",
    "pg = f.get_Taylor_grid([[-1, 1, 2, 3]], truncs = 4)\n",
    "a, b = pg.params[0][0], pg.params[0][-1]\n",
    "f.plot([a], [b], c = \"b\", label= \"original polynomial $f$\")\n",
    "\n",
    "pg.plot(c = \"g\")\n",
    "\n",
    "pm = pg.get_spline()\n",
    "pm.plot(c = \"r\", label = \"spline approximation\")\n",
    "\n",
    "ax.legend()\n",
    "\n",
    "## exponential\n",
    "ax = axs[1]\n",
    "pl.sca(ax)\n",
    "ax.set_title(\"Spline approximation to $exp(f)$\")\n",
    "\n",
    "xxx = np.linspace(a, b, 100)\n",
    "yyy = np.exp(f.batch[None](xxx[:, None]))\n",
    "pl.plot(xxx, yyy, c = \"b\", label= \"$exp(f)$\")\n",
    "\n",
    "pg.truncated_exp().plot(c = \"g\")\n",
    "\n",
    "pg.truncated_exp().get_spline().plot(c = \"r\", label = \"spline approximation\")\n",
    "ax.legend()\n",
    "\n",
    "## inverse\n",
    "ax = axs[2]\n",
    "pl.sca(ax)\n",
    "ax.set_title(\"Spline approximation to $ 1 / f$\")\n",
    "\n",
    "xxx = np.linspace(a, b, 100)\n",
    "yyy = 1 / (f.batch[None](xxx[:, None]))\n",
    "pl.plot(xxx, yyy, c = \"b\", label= \"$1/f$\")\n",
    "\n",
    "(1 / pg).plot(c = \"g\")\n",
    "\n",
    "(1 / pg).get_spline().plot(c = \"r\", label = \"spline approximation\")\n",
    "ax.legend(loc = 4)\n",
    "\n"
   ]
  },
  {
   "cell_type": "markdown",
   "metadata": {},
   "source": [
    "#### Example CR-03"
   ]
  },
  {
   "cell_type": "markdown",
   "metadata": {},
   "source": [
    "Original polynomial (class `Poly`)"
   ]
  },
  {
   "cell_type": "code",
   "execution_count": null,
   "metadata": {
    "ExecuteTime": {
     "end_time": "2020-06-01T13:14:23.210676Z",
     "start_time": "2020-06-01T13:14:18.658Z"
    }
   },
   "outputs": [],
   "source": [
    "f = Poly(\n",
    "    np.array([\n",
    "        [1, 0, 1],\n",
    "        [0, 0, 0],\n",
    "        [1, 0, 0],\n",
    "    ], dtype = floatX)\n",
    ")\n",
    "f([0.1, 0.2])\n",
    "f.plot([-1,-1], [1, 1])"
   ]
  },
  {
   "cell_type": "markdown",
   "metadata": {},
   "source": [
    "Its Taylor polynomials at specified grid points (class `TaylorGrid`)"
   ]
  },
  {
   "cell_type": "code",
   "execution_count": null,
   "metadata": {
    "ExecuteTime": {
     "end_time": "2020-06-01T13:14:23.210676Z",
     "start_time": "2020-06-01T13:14:18.660Z"
    }
   },
   "outputs": [],
   "source": [
    "pg = f.get_Taylor_grid([[-1, -1/3, 1/3, 1], [-1, 0, 1]], truncs = 2)\n",
    "pg.plot()\n",
    "#f.plot([par[0] for par in pg.params], [par[-1] for par in pg.params])"
   ]
  },
  {
   "cell_type": "markdown",
   "metadata": {},
   "source": [
    "Spline reconstruction (class `PolyMesh`)"
   ]
  },
  {
   "cell_type": "code",
   "execution_count": null,
   "metadata": {
    "ExecuteTime": {
     "end_time": "2020-06-01T13:14:23.211675Z",
     "start_time": "2020-06-01T13:14:18.661Z"
    }
   },
   "outputs": [],
   "source": [
    "pm = pg.get_spline()\n",
    "pm.plot()\n",
    "#pm.contour_plot(levels = np.linspace(-1, 1, 15))"
   ]
  },
  {
   "cell_type": "markdown",
   "metadata": {},
   "source": [
    "## `PolyMesh` operations"
   ]
  },
  {
   "cell_type": "code",
   "execution_count": null,
   "metadata": {
    "ExecuteTime": {
     "end_time": "2020-06-01T13:14:23.212674Z",
     "start_time": "2020-06-01T13:14:18.663Z"
    }
   },
   "outputs": [],
   "source": [
    "xx = np.array([-1, 1, 1.5, 3, 4])\n",
    "\n",
    "f_tg, g_tg = [\n",
    "    TaylorGrid.from_Catmull_Rom(\n",
    "        coef = rnd.randint(10, size = [len(xx)]).astype(floatX), \n",
    "        params = [xx], \n",
    "    )\n",
    "    for i in range(2)\n",
    "]\n",
    "\n",
    "f_pm, g_pm = [tg.get_spline() for tg in [f_tg, g_tg]]\n",
    "\n",
    "#fig, axs = pl.subplots(1, 2, figsize = [10, 4])\n",
    "\n",
    "f_pm.plot(c = \"g\")\n",
    "f_tg.plot(c = \"g\")\n",
    "g_pm.plot(c = \"b\")\n",
    "g_tg.plot(c = \"b\")\n"
   ]
  },
  {
   "cell_type": "code",
   "execution_count": null,
   "metadata": {
    "ExecuteTime": {
     "end_time": "2020-06-01T13:14:23.212674Z",
     "start_time": "2020-06-01T13:14:18.665Z"
    }
   },
   "outputs": [],
   "source": [
    "f_pm.der().plot()"
   ]
  },
  {
   "cell_type": "code",
   "execution_count": null,
   "metadata": {
    "ExecuteTime": {
     "end_time": "2020-06-01T13:14:23.213673Z",
     "start_time": "2020-06-01T13:14:18.666Z"
    }
   },
   "outputs": [],
   "source": [
    "f_pm.der().der().plot()"
   ]
  },
  {
   "cell_type": "code",
   "execution_count": null,
   "metadata": {
    "ExecuteTime": {
     "end_time": "2020-06-01T13:14:23.214675Z",
     "start_time": "2020-06-01T13:14:18.668Z"
    }
   },
   "outputs": [],
   "source": [
    "f_pm.der().der().der().plot()"
   ]
  },
  {
   "cell_type": "code",
   "execution_count": null,
   "metadata": {
    "ExecuteTime": {
     "end_time": "2020-06-01T13:14:23.214675Z",
     "start_time": "2020-06-01T13:14:18.669Z"
    }
   },
   "outputs": [],
   "source": [
    "(f_pm + g_pm).plot()\n",
    "(f_tg + g_tg).plot()"
   ]
  },
  {
   "cell_type": "code",
   "execution_count": null,
   "metadata": {
    "ExecuteTime": {
     "end_time": "2020-06-01T13:14:23.215672Z",
     "start_time": "2020-06-01T13:14:18.671Z"
    }
   },
   "outputs": [],
   "source": [
    "(f_pm * g_pm).plot()\n",
    "(f_tg * g_tg).plot()"
   ]
  },
  {
   "cell_type": "code",
   "execution_count": null,
   "metadata": {
    "ExecuteTime": {
     "end_time": "2020-06-01T13:14:23.215672Z",
     "start_time": "2020-06-01T13:14:18.673Z"
    }
   },
   "outputs": [],
   "source": [
    "(f_pm - g_pm /2).plot()\n",
    "(f_tg - g_tg /2).plot()"
   ]
  },
  {
   "cell_type": "markdown",
   "metadata": {},
   "source": [
    "#### Test derivatives\n",
    "Derivative of $x^2$ represented as `PolyMesh`."
   ]
  },
  {
   "cell_type": "code",
   "execution_count": null,
   "metadata": {
    "ExecuteTime": {
     "end_time": "2020-06-01T13:14:23.216706Z",
     "start_time": "2020-06-01T13:14:18.675Z"
    }
   },
   "outputs": [],
   "source": [
    "p = Poly(np.array([0, 0, 1], dtype = floatX))\n",
    "h_tg = p.get_Taylor_grid(params = [xx], truncs = 2)"
   ]
  },
  {
   "cell_type": "code",
   "execution_count": null,
   "metadata": {
    "ExecuteTime": {
     "end_time": "2020-06-01T13:14:23.217670Z",
     "start_time": "2020-06-01T13:14:18.676Z"
    }
   },
   "outputs": [],
   "source": [
    "h_pm = h_tg.get_spline()"
   ]
  },
  {
   "cell_type": "code",
   "execution_count": null,
   "metadata": {
    "ExecuteTime": {
     "end_time": "2020-06-01T13:14:23.218676Z",
     "start_time": "2020-06-01T13:14:18.678Z"
    }
   },
   "outputs": [],
   "source": [
    "h_pm.plot()\n",
    "h_tg.plot()"
   ]
  },
  {
   "cell_type": "code",
   "execution_count": null,
   "metadata": {
    "ExecuteTime": {
     "end_time": "2020-06-01T13:14:23.220706Z",
     "start_time": "2020-06-01T13:14:18.679Z"
    }
   },
   "outputs": [],
   "source": [
    "h_pm.der().plot()"
   ]
  },
  {
   "cell_type": "code",
   "execution_count": null,
   "metadata": {
    "ExecuteTime": {
     "end_time": "2020-06-01T13:14:23.221675Z",
     "start_time": "2020-06-01T13:14:18.681Z"
    }
   },
   "outputs": [],
   "source": [
    "x_pm = h_pm.der() / 2\n",
    "x_pm.plot()"
   ]
  },
  {
   "cell_type": "code",
   "execution_count": null,
   "metadata": {
    "ExecuteTime": {
     "end_time": "2020-06-01T13:14:23.222673Z",
     "start_time": "2020-06-01T13:14:18.682Z"
    }
   },
   "outputs": [],
   "source": [
    "(x_pm * x_pm* x_pm).plot()"
   ]
  },
  {
   "cell_type": "code",
   "execution_count": null,
   "metadata": {
    "ExecuteTime": {
     "end_time": "2020-06-01T13:14:23.223671Z",
     "start_time": "2020-06-01T13:14:18.683Z"
    }
   },
   "outputs": [],
   "source": [
    "(x_pm ** 3).plot()"
   ]
  },
  {
   "cell_type": "code",
   "execution_count": null,
   "metadata": {},
   "outputs": [],
   "source": []
  },
  {
   "cell_type": "code",
   "execution_count": null,
   "metadata": {},
   "outputs": [],
   "source": []
  }
 ],
 "metadata": {
  "kernelspec": {
   "display_name": "Python 3",
   "language": "python",
   "name": "python3"
  },
  "language_info": {
   "codemirror_mode": {
    "name": "ipython",
    "version": 3
   },
   "file_extension": ".py",
   "mimetype": "text/x-python",
   "name": "python",
   "nbconvert_exporter": "python",
   "pygments_lexer": "ipython3",
   "version": "3.7.6"
  },
  "toc": {
   "base_numbering": 1,
   "nav_menu": {
    "height": "265px",
    "width": "252px"
   },
   "number_sections": true,
   "sideBar": true,
   "skip_h1_title": false,
   "title_cell": "Table of Contents",
   "title_sidebar": "Contents",
   "toc_cell": false,
   "toc_position": {},
   "toc_section_display": "block",
   "toc_window_display": false
  }
 },
 "nbformat": 4,
 "nbformat_minor": 1
}
