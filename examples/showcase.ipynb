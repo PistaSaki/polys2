{
 "cells": [
  {
   "cell_type": "markdown",
   "metadata": {},
   "source": [
    "# Imports"
   ]
  },
  {
   "cell_type": "code",
   "execution_count": 1,
   "metadata": {
    "ExecuteTime": {
     "end_time": "2020-06-08T08:18:44.226945Z",
     "start_time": "2020-06-08T08:18:41.697921Z"
    }
   },
   "outputs": [],
   "source": [
    "import numpy as np\n",
    "import itertools as itt\n",
    "import tensorflow as tf\n",
    "from tensorflow.keras import backend as K\n",
    "\n",
    "import numpy.linalg as la\n",
    "\n",
    "import scipy.stats as st\n",
    "import numpy.random as rnd\n",
    "\n",
    "import matplotlib.pyplot as pl\n",
    "%matplotlib inline\n",
    "\n",
    "from importlib import reload\n",
    "\n",
    "import ipywidgets as ipw"
   ]
  },
  {
   "cell_type": "code",
   "execution_count": 2,
   "metadata": {
    "ExecuteTime": {
     "end_time": "2020-06-08T08:18:44.239932Z",
     "start_time": "2020-06-08T08:18:44.227931Z"
    }
   },
   "outputs": [],
   "source": [
    "from polys2 import Poly, PolyMesh, TaylorGrid"
   ]
  },
  {
   "cell_type": "code",
   "execution_count": 3,
   "metadata": {
    "ExecuteTime": {
     "end_time": "2020-06-08T08:18:44.249933Z",
     "start_time": "2020-06-08T08:18:44.240934Z"
    },
    "code_folding": []
   },
   "outputs": [
    {
     "data": {
      "text/html": [
       "<style>.container { width:100% !important; }</style>"
      ],
      "text/plain": [
       "<IPython.core.display.HTML object>"
      ]
     },
     "execution_count": 3,
     "metadata": {},
     "output_type": "execute_result"
    }
   ],
   "source": [
    "## changing the width of cells\n",
    "from IPython.core.display import HTML\n",
    "HTML(\"<style>.container { width:100% !important; }</style>\")"
   ]
  },
  {
   "cell_type": "markdown",
   "metadata": {},
   "source": [
    "## Auxilliary methods for working with batches"
   ]
  },
  {
   "cell_type": "code",
   "execution_count": 4,
   "metadata": {
    "ExecuteTime": {
     "end_time": "2020-06-08T08:18:44.254935Z",
     "start_time": "2020-06-08T08:18:44.251933Z"
    }
   },
   "outputs": [],
   "source": [
    "import polys2.batch_utils as pib"
   ]
  },
  {
   "cell_type": "code",
   "execution_count": 5,
   "metadata": {
    "ExecuteTime": {
     "end_time": "2020-06-08T08:18:44.268931Z",
     "start_time": "2020-06-08T08:18:44.255931Z"
    },
    "code_folding": []
   },
   "outputs": [],
   "source": [
    "def plot_batched_objects(objs, names = None, subplots_kwargs = {}):\n",
    "    if names is None:\n",
    "        names = [ \"obj_\" + str(i) for i, o in enumerate(objs) ]\n",
    "       \n",
    "    def fun(ii):\n",
    "        print(\"batch_index =\", ii)\n",
    "        fig, axs = pl.subplots(nrows=1, ncols=len(objs), figsize= (5 * len(objs), 5), **subplots_kwargs)\n",
    "        axs = np.array(axs, dtype = np.object)\n",
    "        for name, obj, ax in zip(names, objs, axs.flat):\n",
    "            pl.sca(ax)\n",
    "            ax.set_title(name)\n",
    "            obj.batch[ii].plot()\n",
    "            \n",
    "    pib.interact_along_batch(\n",
    "        batch_shape = pib.get_common_broadcasted_shape([obj.batch_shape for obj in objs]), \n",
    "        display_fun = fun\n",
    "    )"
   ]
  },
  {
   "cell_type": "markdown",
   "metadata": {},
   "source": [
    "# Poly class - simple examples\n",
    "#### 1D example"
   ]
  },
  {
   "cell_type": "code",
   "execution_count": 6,
   "metadata": {
    "ExecuteTime": {
     "end_time": "2020-06-08T08:18:44.969456Z",
     "start_time": "2020-06-08T08:18:44.269932Z"
    }
   },
   "outputs": [
    {
     "data": {
      "text/plain": [
       "Poly( tf.Tensor([1. 2.], shape=(2,), dtype=float32) )"
      ]
     },
     "execution_count": 6,
     "metadata": {},
     "output_type": "execute_result"
    }
   ],
   "source": [
    "g = Poly(tf.constant([1, 2], dtype=K.floatx()))\n",
    "g"
   ]
  },
  {
   "cell_type": "code",
   "execution_count": 7,
   "metadata": {
    "ExecuteTime": {
     "end_time": "2020-06-08T08:18:45.974062Z",
     "start_time": "2020-06-08T08:18:44.970455Z"
    }
   },
   "outputs": [
    {
     "data": {
      "text/plain": [
       "Poly( tf.Tensor([1. 4. 4.], shape=(3,), dtype=float32) )"
      ]
     },
     "execution_count": 7,
     "metadata": {},
     "output_type": "execute_result"
    }
   ],
   "source": [
    "g * g"
   ]
  },
  {
   "cell_type": "code",
   "execution_count": 8,
   "metadata": {
    "ExecuteTime": {
     "end_time": "2020-06-08T08:18:45.983029Z",
     "start_time": "2020-06-08T08:18:45.976027Z"
    }
   },
   "outputs": [
    {
     "data": {
      "text/plain": [
       "<tf.Tensor: shape=(), dtype=float32, numpy=3.0>"
      ]
     },
     "execution_count": 8,
     "metadata": {},
     "output_type": "execute_result"
    }
   ],
   "source": [
    "## evaluate `g`\n",
    "t = tf.Variable([1], dtype = K.floatx())\n",
    "g(t)"
   ]
  },
  {
   "cell_type": "code",
   "execution_count": 9,
   "metadata": {
    "ExecuteTime": {
     "end_time": "2020-06-08T08:18:45.991273Z",
     "start_time": "2020-06-08T08:18:45.984077Z"
    }
   },
   "outputs": [
    {
     "data": {
      "text/plain": [
       "Poly( tf.Tensor([1. 0. 1.], shape=(3,), dtype=float32) )"
      ]
     },
     "execution_count": 9,
     "metadata": {},
     "output_type": "execute_result"
    }
   ],
   "source": [
    "f = Poly(tf.constant([1, 0, 1], dtype = K.floatx()))\n",
    "f"
   ]
  },
  {
   "cell_type": "code",
   "execution_count": 10,
   "metadata": {
    "ExecuteTime": {
     "end_time": "2020-06-08T08:18:46.659327Z",
     "start_time": "2020-06-08T08:18:45.994028Z"
    },
    "scrolled": true
   },
   "outputs": [
    {
     "data": {
      "text/plain": [
       "[Poly( tf.Tensor([1. 0. 2. 0. 1.], shape=(5,), dtype=float32) ),\n",
       " Poly( tf.Tensor([3. 0. 3.], shape=(3,), dtype=float32) ),\n",
       " Poly( tf.Tensor([2. 2. 1.], shape=(3,), dtype=float32) ),\n",
       " Poly( tf.Tensor([4. 0. 1.], shape=(3,), dtype=float32) ),\n",
       " Poly( tf.Tensor([1. 0.], shape=(2,), dtype=float32) ),\n",
       " Poly( tf.Tensor([2.7182817 0.        2.7182817], shape=(3,), dtype=float32) )]"
      ]
     },
     "execution_count": 10,
     "metadata": {},
     "output_type": "execute_result"
    }
   ],
   "source": [
    "[f*f, f*3, f + g, f + 3, f.truncate_degs(2), f.truncated_exp()]"
   ]
  },
  {
   "cell_type": "markdown",
   "metadata": {},
   "source": [
    "#### 2D example"
   ]
  },
  {
   "cell_type": "code",
   "execution_count": 11,
   "metadata": {
    "ExecuteTime": {
     "end_time": "2020-06-08T08:18:46.665348Z",
     "start_time": "2020-06-08T08:18:46.660327Z"
    }
   },
   "outputs": [],
   "source": [
    "# 2D example\n",
    "f = Poly(tf.constant(rnd.randint(-3, 3, size = (10, 1, 6)), K.floatx()), batch_ndim=1)\n",
    "g = Poly(tf.constant(rnd.randint(-3, 3, size = (10, 2, 1)), K.floatx()), batch_ndim=1)"
   ]
  },
  {
   "cell_type": "code",
   "execution_count": 12,
   "metadata": {
    "ExecuteTime": {
     "end_time": "2020-06-08T08:18:47.339333Z",
     "start_time": "2020-06-08T08:18:46.666326Z"
    }
   },
   "outputs": [
    {
     "name": "stdout",
     "output_type": "stream",
     "text": [
      "WARNING:tensorflow:5 out of the last 5 calls to <function poly_prod at 0x00000177A09F0AF8> triggered tf.function retracing. Tracing is expensive and the excessive number of tracings is likely due to passing python objects instead of tensors. Also, tf.function has experimental_relax_shapes=True option that relaxes argument shapes that can avoid unnecessary retracing. Please refer to https://www.tensorflow.org/tutorials/customization/performance#python_or_tensor_args and https://www.tensorflow.org/api_docs/python/tf/function for more details.\n",
      "WARNING:tensorflow:6 out of the last 7 calls to <function poly_prod at 0x00000177A09F0AF8> triggered tf.function retracing. Tracing is expensive and the excessive number of tracings is likely due to passing python objects instead of tensors. Also, tf.function has experimental_relax_shapes=True option that relaxes argument shapes that can avoid unnecessary retracing. Please refer to https://www.tensorflow.org/tutorials/customization/performance#python_or_tensor_args and https://www.tensorflow.org/api_docs/python/tf/function for more details.\n",
      "WARNING:tensorflow:7 out of the last 11 calls to <function poly_prod at 0x00000177A09F0AF8> triggered tf.function retracing. Tracing is expensive and the excessive number of tracings is likely due to passing python objects instead of tensors. Also, tf.function has experimental_relax_shapes=True option that relaxes argument shapes that can avoid unnecessary retracing. Please refer to https://www.tensorflow.org/tutorials/customization/performance#python_or_tensor_args and https://www.tensorflow.org/api_docs/python/tf/function for more details.\n"
     ]
    },
    {
     "data": {
      "application/vnd.jupyter.widget-view+json": {
       "model_id": "4ad986e27a6c4a05ab301514351a3199",
       "version_major": 2,
       "version_minor": 0
      },
      "text/plain": [
       "interactive(children=(IntSlider(value=0, description='i0', max=9), Output()), _dom_classes=('widget-interact',…"
      ]
     },
     "metadata": {},
     "output_type": "display_data"
    }
   ],
   "source": [
    "pib.print_batched_objects(\n",
    "    objs = [f, g, f * g, f + g, (f*g).truncate_degs(2), f.truncated_exp()], \n",
    "    names = [\"f\", \"g\",  \"f * g\", \"f + g\", \"trunc(f*g)\", \"exp(f)\"]\n",
    ")"
   ]
  },
  {
   "cell_type": "code",
   "execution_count": 13,
   "metadata": {
    "ExecuteTime": {
     "end_time": "2020-06-08T08:18:51.128006Z",
     "start_time": "2020-06-08T08:18:47.340335Z"
    }
   },
   "outputs": [
    {
     "data": {
      "application/vnd.jupyter.widget-view+json": {
       "model_id": "193c2c84944d4a0f9275697c0fc04f59",
       "version_major": 2,
       "version_minor": 0
      },
      "text/plain": [
       "interactive(children=(IntSlider(value=0, description='i0', max=9), Output()), _dom_classes=('widget-interact',…"
      ]
     },
     "metadata": {},
     "output_type": "display_data"
    }
   ],
   "source": [
    "plot_batched_objects([f, g, f * g, f + g], names = [\"f\", \"g\",  \"f * g\", \"f + g\"], \n",
    "                     subplots_kwargs={\"sharex\": True, \"sharey\":True})"
   ]
  },
  {
   "cell_type": "markdown",
   "metadata": {},
   "source": [
    "### Evaluation of Poly"
   ]
  },
  {
   "cell_type": "code",
   "execution_count": 14,
   "metadata": {
    "ExecuteTime": {
     "end_time": "2020-06-08T08:18:51.134008Z",
     "start_time": "2020-06-08T08:18:51.129008Z"
    }
   },
   "outputs": [],
   "source": [
    "x = tf.Variable([1, 2], name=\"x\", dtype=K.floatx())"
   ]
  },
  {
   "cell_type": "code",
   "execution_count": 15,
   "metadata": {
    "ExecuteTime": {
     "end_time": "2020-06-08T08:18:51.144006Z",
     "start_time": "2020-06-08T08:18:51.136007Z"
    }
   },
   "outputs": [
    {
     "data": {
      "text/plain": [
       "<tf.Tensor: shape=(10,), dtype=float32, numpy=\n",
       "array([-176.,  -15., -115.,  -93.,  -64.,  -74.,  -70., -126.,   44.,\n",
       "        -48.], dtype=float32)>"
      ]
     },
     "execution_count": 15,
     "metadata": {},
     "output_type": "execute_result"
    }
   ],
   "source": [
    "## `f` is a batched polynomial, thus to evaluate every one at `x` \n",
    "## we need to add one batch-dimension also to `x`\n",
    "f(x[None, :])"
   ]
  },
  {
   "cell_type": "markdown",
   "metadata": {},
   "source": [
    "# Other classes: `TaylorGrid`, `PolyMesh`"
   ]
  },
  {
   "cell_type": "markdown",
   "metadata": {},
   "source": [
    "### Gaussian pdf 2D"
   ]
  },
  {
   "cell_type": "markdown",
   "metadata": {},
   "source": [
    "Generate batches of precision matrices `prec` and means `mu`. You can choose `n` = 1 or 2."
   ]
  },
  {
   "cell_type": "code",
   "execution_count": 16,
   "metadata": {
    "ExecuteTime": {
     "end_time": "2020-06-08T08:18:51.265087Z",
     "start_time": "2020-06-08T08:18:51.146006Z"
    },
    "code_folding": []
   },
   "outputs": [],
   "source": [
    "n = 2\n",
    "batch_ndim = 1\n",
    "n_samples = 5000\n",
    "\n",
    "def random_prec():\n",
    "    scaling = np.diag(1 / rnd.uniform(0.1, 5 , size = n)) \n",
    "    phi = rnd.uniform(0, 2 * np.pi)\n",
    "    rotation = np.array([\n",
    "        [np.cos(phi), - np.sin(phi)], \n",
    "        [np.sin(phi), np.cos(phi)]\n",
    "    ])\n",
    "    return rotation @ scaling @ rotation.T\n",
    "        \n",
    "prec = tf.constant([random_prec() for i in range(n_samples)], K.floatx())\n",
    "\n",
    "mu = tf.constant(rnd.randint(-1, 2, size=(n_samples, n)), K.floatx())\n",
    "params = [tf.linspace(-4., 4., 10)]*n"
   ]
  },
  {
   "cell_type": "markdown",
   "metadata": {},
   "source": [
    "Construct TaylorGrid taylors of Gauss PDF and the coresponding spline PolyMesh approximation"
   ]
  },
  {
   "cell_type": "code",
   "execution_count": 17,
   "metadata": {
    "ExecuteTime": {
     "end_time": "2020-06-08T08:18:51.919102Z",
     "start_time": "2020-06-08T08:18:51.266006Z"
    },
    "scrolled": false
   },
   "outputs": [
    {
     "name": "stdout",
     "output_type": "stream",
     "text": [
      "WARNING:tensorflow:6 out of the last 11 calls to <function poly_prod at 0x00000177A09F0AF8> triggered tf.function retracing. Tracing is expensive and the excessive number of tracings is likely due to passing python objects instead of tensors. Also, tf.function has experimental_relax_shapes=True option that relaxes argument shapes that can avoid unnecessary retracing. Please refer to https://www.tensorflow.org/tutorials/customization/performance#python_or_tensor_args and https://www.tensorflow.org/api_docs/python/tf/function for more details.\n",
      "WARNING:tensorflow:6 out of the last 11 calls to <function poly_prod at 0x00000177A09F0AF8> triggered tf.function retracing. Tracing is expensive and the excessive number of tracings is likely due to passing python objects instead of tensors. Also, tf.function has experimental_relax_shapes=True option that relaxes argument shapes that can avoid unnecessary retracing. Please refer to https://www.tensorflow.org/tutorials/customization/performance#python_or_tensor_args and https://www.tensorflow.org/api_docs/python/tf/function for more details.\n"
     ]
    }
   ],
   "source": [
    "tg = TaylorGrid.from_Gauss_pdf(params, mu, prec, batch_ndim, var_ndim= n)\n",
    "spline = tg.get_spline()"
   ]
  },
  {
   "cell_type": "code",
   "execution_count": 18,
   "metadata": {
    "ExecuteTime": {
     "end_time": "2020-06-08T08:18:51.938190Z",
     "start_time": "2020-06-08T08:18:51.920085Z"
    },
    "scrolled": true
   },
   "outputs": [
    {
     "data": {
      "text/plain": [
       "<tf.Tensor: shape=(5000,), dtype=float32, numpy=\n",
       "array([0.983954  , 1.0010632 , 0.9364409 , ..., 0.90801764, 0.9637393 ,\n",
       "       0.9968472 ], dtype=float32)>"
      ]
     },
     "execution_count": 18,
     "metadata": {},
     "output_type": "execute_result"
    }
   ],
   "source": [
    "spline.integrate()"
   ]
  },
  {
   "cell_type": "code",
   "execution_count": 19,
   "metadata": {
    "ExecuteTime": {
     "end_time": "2020-06-08T08:18:52.017015Z",
     "start_time": "2020-06-08T08:18:51.939067Z"
    }
   },
   "outputs": [
    {
     "name": "stdout",
     "output_type": "stream",
     "text": [
      "tf.Tensor([0.983954   1.0010632  0.9364409  ... 0.90801764 0.9637393  0.9968472 ], shape=(5000,), dtype=float32)\n",
      "tf.Tensor([0.98395395 1.0010633  0.93644094 ... 0.90801764 0.9637394  0.9968473 ], shape=(5000,), dtype=float32)\n"
     ]
    }
   ],
   "source": [
    "print(spline.integrate())\n",
    "print(tg.integrate_spline())"
   ]
  },
  {
   "cell_type": "code",
   "execution_count": 20,
   "metadata": {
    "ExecuteTime": {
     "end_time": "2020-06-08T08:19:00.099072Z",
     "start_time": "2020-06-08T08:18:52.019013Z"
    }
   },
   "outputs": [
    {
     "name": "stdout",
     "output_type": "stream",
     "text": [
      "9.83 ms ± 355 µs per loop (mean ± std. dev. of 7 runs, 100 loops each)\n"
     ]
    }
   ],
   "source": [
    "%timeit spline.integrate()"
   ]
  },
  {
   "cell_type": "code",
   "execution_count": 21,
   "metadata": {
    "ExecuteTime": {
     "end_time": "2020-06-08T08:19:08.767136Z",
     "start_time": "2020-06-08T08:19:00.100073Z"
    }
   },
   "outputs": [
    {
     "name": "stdout",
     "output_type": "stream",
     "text": [
      "106 ms ± 421 µs per loop (mean ± std. dev. of 7 runs, 10 loops each)\n"
     ]
    }
   ],
   "source": [
    "%%timeit \n",
    "spline = tg.get_spline()\n",
    "spline.integrate()"
   ]
  },
  {
   "cell_type": "code",
   "execution_count": 22,
   "metadata": {
    "ExecuteTime": {
     "end_time": "2020-06-08T08:19:13.432171Z",
     "start_time": "2020-06-08T08:19:08.768137Z"
    }
   },
   "outputs": [
    {
     "name": "stdout",
     "output_type": "stream",
     "text": [
      "57.4 ms ± 424 µs per loop (mean ± std. dev. of 7 runs, 10 loops each)\n"
     ]
    }
   ],
   "source": [
    "%timeit tg.integrate_spline()"
   ]
  },
  {
   "cell_type": "markdown",
   "metadata": {},
   "source": [
    "See the graphs of genuine PDF, our approximation and the approximation using Interpolators "
   ]
  },
  {
   "cell_type": "code",
   "execution_count": 23,
   "metadata": {
    "ExecuteTime": {
     "end_time": "2020-06-08T08:19:13.440170Z",
     "start_time": "2020-06-08T08:19:13.435170Z"
    }
   },
   "outputs": [],
   "source": [
    "from polys2.interpolators import Interpolator"
   ]
  },
  {
   "cell_type": "code",
   "execution_count": 24,
   "metadata": {
    "ExecuteTime": {
     "end_time": "2020-06-08T08:19:19.836522Z",
     "start_time": "2020-06-08T08:19:13.442171Z"
    },
    "code_folding": []
   },
   "outputs": [
    {
     "data": {
      "application/vnd.jupyter.widget-view+json": {
       "model_id": "67500774d60e42fdb2c4af5a969ccf4e",
       "version_major": 2,
       "version_minor": 0
      },
      "text/plain": [
       "interactive(children=(IntSlider(value=0, description='i0', max=4999), Output()), _dom_classes=('widget-interac…"
      ]
     },
     "metadata": {},
     "output_type": "display_data"
    }
   ],
   "source": [
    "# if 2D use this visualization\n",
    "def fun(ii):\n",
    "    assert spline.var_ndim == 2, \"This visualization works only in 2D case.\"\n",
    "    f = spline.batch[ii]\n",
    "    \n",
    "    print(\"mu =\" , mu[ii])\n",
    "    print(\"K =\" , prec[ii])\n",
    "    f0 = st.multivariate_normal(mean = mu[ii], cov = la.inv(prec[ii])).pdf\n",
    "\n",
    "    g = Interpolator.from_fun(params, f0)\n",
    "\n",
    "    xxx, yyy = [np.linspace(par[0], par[-1], 30) for par in params]\n",
    "\n",
    "    fig, axs = pl.subplots(1, 3, figsize = [15, 4])\n",
    "    for ax in axs:\n",
    "        ax.set_aspect(\"equal\")\n",
    "\n",
    "    levels = None\n",
    "    for fun, title, ax  in zip([g, f, f0], [\"Catmull-Rom\", \"PolyMesh cubic spline\", \"genuine Gauss\"], axs):\n",
    "        pl.sca(ax)\n",
    "        fff = np.array([[ fun([x,y]) for y in yyy ] for x in xxx]).T\n",
    "        print(title, \"minimum is\", fff.min(), type(fun) )\n",
    "        cp = pl.contour( xxx, yyy, fff, \n",
    "            cmap=pl.cm.rainbow,\n",
    "            levels = levels\n",
    "        )\n",
    "        pl.clabel(cp)\n",
    "\n",
    "        pl.scatter(*zip(*itt.product(*[p.numpy() for p in params])), marker = \"+\")\n",
    "\n",
    "        ax.set_title(title)\n",
    "\n",
    "        levels = cp.levels\n",
    "        \n",
    "pib.interact_along_batch(spline.batch_shape, fun)# continuous_update=False)"
   ]
  },
  {
   "cell_type": "markdown",
   "metadata": {},
   "source": [
    "### Gaussian pdf 1D"
   ]
  },
  {
   "cell_type": "markdown",
   "metadata": {},
   "source": [
    "Generate batches of precision matrices `prec` and means `mu`. You can choose `n` = 1 or 2."
   ]
  },
  {
   "cell_type": "code",
   "execution_count": 25,
   "metadata": {
    "ExecuteTime": {
     "end_time": "2020-06-08T08:19:19.911727Z",
     "start_time": "2020-06-08T08:19:19.837521Z"
    },
    "code_folding": []
   },
   "outputs": [],
   "source": [
    "n = 1\n",
    "batch_ndim = 1\n",
    "n_samples = 5000\n",
    "\n",
    "def random_prec():\n",
    "    std = np.diag(rnd.uniform(0.3, 2 , size = n)) \n",
    "    return std ** (-2)\n",
    "        \n",
    "prec = tf.constant([random_prec() for i in range(n_samples)], K.floatx())\n",
    "\n",
    "mu = tf.constant(rnd.randint(-1, 2, size=(n_samples, n)), K.floatx())\n",
    "params = [tf.linspace(-4., 4., 10)]*n"
   ]
  },
  {
   "cell_type": "markdown",
   "metadata": {},
   "source": [
    "Construct TaylorGrid taylors of Gauss PDF and the coresponding spline PolyMesh approximation"
   ]
  },
  {
   "cell_type": "code",
   "execution_count": 26,
   "metadata": {
    "ExecuteTime": {
     "end_time": "2020-06-08T08:19:20.169595Z",
     "start_time": "2020-06-08T08:19:19.912559Z"
    },
    "scrolled": false
   },
   "outputs": [
    {
     "name": "stdout",
     "output_type": "stream",
     "text": [
      "WARNING:tensorflow:6 out of the last 11 calls to <function poly_prod at 0x00000177A09F0AF8> triggered tf.function retracing. Tracing is expensive and the excessive number of tracings is likely due to passing python objects instead of tensors. Also, tf.function has experimental_relax_shapes=True option that relaxes argument shapes that can avoid unnecessary retracing. Please refer to https://www.tensorflow.org/tutorials/customization/performance#python_or_tensor_args and https://www.tensorflow.org/api_docs/python/tf/function for more details.\n"
     ]
    }
   ],
   "source": [
    "tg = TaylorGrid.from_Gauss_pdf(params, mu, prec, batch_ndim, var_ndim= n)\n",
    "spline = tg.get_spline()"
   ]
  },
  {
   "cell_type": "code",
   "execution_count": 27,
   "metadata": {
    "ExecuteTime": {
     "end_time": "2020-06-08T08:19:20.177525Z",
     "start_time": "2020-06-08T08:19:20.170568Z"
    },
    "scrolled": true
   },
   "outputs": [
    {
     "data": {
      "text/plain": [
       "<tf.Tensor: shape=(5000,), dtype=float32, numpy=\n",
       "array([0.9975726 , 0.9999518 , 0.987789  , ..., 0.9999811 , 0.98090875,\n",
       "       0.9243336 ], dtype=float32)>"
      ]
     },
     "execution_count": 27,
     "metadata": {},
     "output_type": "execute_result"
    }
   ],
   "source": [
    "spline.integrate()"
   ]
  },
  {
   "cell_type": "code",
   "execution_count": 28,
   "metadata": {
    "ExecuteTime": {
     "end_time": "2020-06-08T08:19:20.209558Z",
     "start_time": "2020-06-08T08:19:20.178526Z"
    }
   },
   "outputs": [
    {
     "name": "stdout",
     "output_type": "stream",
     "text": [
      "tf.Tensor([0.9975726  0.9999518  0.987789   ... 0.9999811  0.98090875 0.9243336 ], shape=(5000,), dtype=float32)\n",
      "tf.Tensor([0.99757266 0.9999518  0.9877889  ... 0.99998105 0.98090863 0.9243334 ], shape=(5000,), dtype=float32)\n"
     ]
    }
   ],
   "source": [
    "print(spline.integrate())\n",
    "print(tg.integrate_spline())"
   ]
  },
  {
   "cell_type": "code",
   "execution_count": 29,
   "metadata": {
    "ExecuteTime": {
     "end_time": "2020-06-08T08:19:28.754851Z",
     "start_time": "2020-06-08T08:19:20.210526Z"
    }
   },
   "outputs": [
    {
     "name": "stdout",
     "output_type": "stream",
     "text": [
      "1.05 ms ± 5.3 µs per loop (mean ± std. dev. of 7 runs, 1000 loops each)\n"
     ]
    }
   ],
   "source": [
    "%timeit spline.integrate()"
   ]
  },
  {
   "cell_type": "code",
   "execution_count": 30,
   "metadata": {
    "ExecuteTime": {
     "end_time": "2020-06-08T08:19:30.568863Z",
     "start_time": "2020-06-08T08:19:28.756850Z"
    }
   },
   "outputs": [
    {
     "name": "stdout",
     "output_type": "stream",
     "text": [
      "22.3 ms ± 1.76 ms per loop (mean ± std. dev. of 7 runs, 10 loops each)\n"
     ]
    }
   ],
   "source": [
    "%%timeit \n",
    "spline = tg.get_spline()\n",
    "spline.integrate()"
   ]
  },
  {
   "cell_type": "code",
   "execution_count": 31,
   "metadata": {
    "ExecuteTime": {
     "end_time": "2020-06-08T08:19:32.606112Z",
     "start_time": "2020-06-08T08:19:30.570871Z"
    }
   },
   "outputs": [
    {
     "name": "stdout",
     "output_type": "stream",
     "text": [
      "24.5 ms ± 262 µs per loop (mean ± std. dev. of 7 runs, 10 loops each)\n"
     ]
    }
   ],
   "source": [
    "%timeit tg.integrate_spline()"
   ]
  },
  {
   "cell_type": "code",
   "execution_count": 32,
   "metadata": {
    "ExecuteTime": {
     "end_time": "2020-06-08T08:19:33.226366Z",
     "start_time": "2020-06-08T08:19:32.607075Z"
    },
    "code_folding": []
   },
   "outputs": [
    {
     "data": {
      "application/vnd.jupyter.widget-view+json": {
       "model_id": "6b0f7078d6124a76bf53c20b621c4d33",
       "version_major": 2,
       "version_minor": 0
      },
      "text/plain": [
       "interactive(children=(IntSlider(value=0, description='i0', max=4999), Output()), _dom_classes=('widget-interac…"
      ]
     },
     "metadata": {},
     "output_type": "display_data"
    }
   ],
   "source": [
    "# if 1D use this visualization\n",
    "def fun(ii):\n",
    "    assert spline.var_ndim == 1, \"This visualization works only in 1D case.\"\n",
    "    \n",
    "    f = spline.batch[ii]\n",
    "    \n",
    "    print(f\"mean = {np.squeeze(mu[ii])}, std = {np.squeeze(prec[ii])**(-1/2)}\")\n",
    "    f0 = st.multivariate_normal(mean = mu[ii], cov = la.inv(prec[ii])).pdf\n",
    "    g = Interpolator.from_fun(params, f0)\n",
    "    \n",
    "    par = params[0]\n",
    "    xxx = np.linspace(par[0], par[-1], 100)\n",
    "    for fun, title in zip([g, f, f0], [\"Catmull-Rom\", \"PolyMesh cubic spline\", \"genuine Gauss\"]):\n",
    "        yyy = [fun([x]) for x in xxx]\n",
    "        pl.plot(xxx, yyy, label = title)\n",
    "    \n",
    "    pl.legend(fontsize = 'xx-small')\n",
    "    \n",
    "pib.interact_along_batch(spline.batch_shape, fun )"
   ]
  },
  {
   "cell_type": "code",
   "execution_count": null,
   "metadata": {},
   "outputs": [],
   "source": []
  },
  {
   "cell_type": "markdown",
   "metadata": {},
   "source": [
    "### Splines from given Taylors at grid points"
   ]
  },
  {
   "cell_type": "markdown",
   "metadata": {},
   "source": [
    "A polynomial of high order that we approximate by a spline"
   ]
  },
  {
   "cell_type": "code",
   "execution_count": 33,
   "metadata": {
    "ExecuteTime": {
     "end_time": "2020-06-08T08:19:33.231400Z",
     "start_time": "2020-06-08T08:19:33.227404Z"
    }
   },
   "outputs": [],
   "source": [
    "f = Poly(tf.constant([1, -1, 4, 0,0, -3], dtype=K.floatx()))"
   ]
  },
  {
   "cell_type": "code",
   "execution_count": 34,
   "metadata": {
    "ExecuteTime": {
     "end_time": "2020-06-08T08:19:33.243516Z",
     "start_time": "2020-06-08T08:19:33.232368Z"
    }
   },
   "outputs": [],
   "source": [
    "params = [tf.constant([0, 0.2, .5, 1], dtype=K.floatx())]\n",
    "tg_f = f.get_taylor_grid(params, truncs = 2)"
   ]
  },
  {
   "cell_type": "code",
   "execution_count": 35,
   "metadata": {
    "ExecuteTime": {
     "end_time": "2020-06-08T08:19:33.256366Z",
     "start_time": "2020-06-08T08:19:33.244366Z"
    }
   },
   "outputs": [],
   "source": [
    "spline_f = tg_f.get_spline()"
   ]
  },
  {
   "cell_type": "code",
   "execution_count": 36,
   "metadata": {
    "ExecuteTime": {
     "end_time": "2020-06-08T08:19:33.848368Z",
     "start_time": "2020-06-08T08:19:33.257364Z"
    }
   },
   "outputs": [
    {
     "data": {
      "text/plain": [
       "<matplotlib.legend.Legend at 0x177a647c988>"
      ]
     },
     "execution_count": 36,
     "metadata": {},
     "output_type": "execute_result"
    },
    {
     "data": {
      "image/png": "[encoded data removed]",
      "text/plain": [
       "<Figure size 432x288 with 1 Axes>"
      ]
     },
     "metadata": {
      "needs_background": "light"
     },
     "output_type": "display_data"
    }
   ],
   "source": [
    "f.plot(label=\"original\")\n",
    "tg_f.plot(label=\"taylor\")\n",
    "spline_f.plot(label=\"approximation\")\n",
    "pl.legend()"
   ]
  },
  {
   "cell_type": "code",
   "execution_count": 37,
   "metadata": {
    "ExecuteTime": {
     "end_time": "2020-06-08T08:19:34.621754Z",
     "start_time": "2020-06-08T08:19:33.849405Z"
    }
   },
   "outputs": [
    {
     "data": {
      "application/vnd.jupyter.widget-view+json": {
       "model_id": "a63208e5730a4f3ca68ccf67bbe82216",
       "version_major": 2,
       "version_minor": 0
      },
      "text/plain": [
       "interactive(children=(Output(),), _dom_classes=('widget-interact',))"
      ]
     },
     "metadata": {},
     "output_type": "display_data"
    }
   ],
   "source": [
    "plot_batched_objects(\n",
    "    objs = [f, tg_f, spline_f], \n",
    "    names = [\"original poly\", \"truncated Taylors at grid\", \"spline reconstruction\"],\n",
    "    subplots_kwargs={\"sharex\": True, \"sharey\":True}\n",
    ")"
   ]
  },
  {
   "cell_type": "markdown",
   "metadata": {},
   "source": [
    "### Catmull-Rom splines"
   ]
  },
  {
   "cell_type": "markdown",
   "metadata": {},
   "source": [
    "#### Example CR-01"
   ]
  },
  {
   "cell_type": "code",
   "execution_count": 38,
   "metadata": {
    "ExecuteTime": {
     "end_time": "2020-06-08T08:19:34.641790Z",
     "start_time": "2020-06-08T08:19:34.622953Z"
    }
   },
   "outputs": [],
   "source": [
    "xx = np.array([1, 2, 3, 4, 5], dtype=K.floatx())\n",
    "\n",
    "yy = tf.Variable(rnd.randint(10, size = [10, len(xx)]), dtype=K.floatx())\n",
    "\n",
    "taylors = TaylorGrid.from_Catmull_Rom(yy, params = [xx], batch_ndim=1)\n",
    "spline = taylors.get_spline()"
   ]
  },
  {
   "cell_type": "code",
   "execution_count": 39,
   "metadata": {
    "ExecuteTime": {
     "end_time": "2020-06-08T08:19:35.278759Z",
     "start_time": "2020-06-08T08:19:34.642757Z"
    }
   },
   "outputs": [
    {
     "data": {
      "application/vnd.jupyter.widget-view+json": {
       "model_id": "a385d7371442451596ca14dd29b743be",
       "version_major": 2,
       "version_minor": 0
      },
      "text/plain": [
       "interactive(children=(IntSlider(value=0, description='i0', max=9), Output()), _dom_classes=('widget-interact',…"
      ]
     },
     "metadata": {},
     "output_type": "display_data"
    }
   ],
   "source": [
    "def fun(iii):\n",
    "    taylors.batch[iii].plot(c = \"g\")\n",
    "    pl.scatter(xx, yy[iii])\n",
    "    spline.batch[iii].plot(c = \"b\")\n",
    "    \n",
    "\n",
    "pib.interact_along_batch(batch_shape=spline.batch_shape, display_fun=fun)"
   ]
  },
  {
   "cell_type": "markdown",
   "metadata": {},
   "source": [
    "#### Example CR-02"
   ]
  },
  {
   "cell_type": "code",
   "execution_count": 40,
   "metadata": {
    "ExecuteTime": {
     "end_time": "2020-06-08T08:19:37.766449Z",
     "start_time": "2020-06-08T08:19:35.279761Z"
    }
   },
   "outputs": [
    {
     "name": "stdout",
     "output_type": "stream",
     "text": [
      "WARNING:tensorflow:7 out of the last 12 calls to <function poly_prod at 0x00000177A09F0AF8> triggered tf.function retracing. Tracing is expensive and the excessive number of tracings is likely due to passing python objects instead of tensors. Also, tf.function has experimental_relax_shapes=True option that relaxes argument shapes that can avoid unnecessary retracing. Please refer to https://www.tensorflow.org/tutorials/customization/performance#python_or_tensor_args and https://www.tensorflow.org/api_docs/python/tf/function for more details.\n",
      "WARNING:tensorflow:7 out of the last 12 calls to <function poly_prod at 0x00000177A09F0AF8> triggered tf.function retracing. Tracing is expensive and the excessive number of tracings is likely due to passing python objects instead of tensors. Also, tf.function has experimental_relax_shapes=True option that relaxes argument shapes that can avoid unnecessary retracing. Please refer to https://www.tensorflow.org/tutorials/customization/performance#python_or_tensor_args and https://www.tensorflow.org/api_docs/python/tf/function for more details.\n"
     ]
    },
    {
     "data": {
      "text/plain": [
       "<matplotlib.legend.Legend at 0x177a8a4aa48>"
      ]
     },
     "execution_count": 40,
     "metadata": {},
     "output_type": "execute_result"
    },
    {
     "data": {
      "image/png": "[encoded data removed]",
      "text/plain": [
       "<Figure size 720x504 with 4 Axes>"
      ]
     },
     "metadata": {
      "needs_background": "light"
     },
     "output_type": "display_data"
    }
   ],
   "source": [
    "fig, axs = pl.subplots(2, 2, figsize = [10, 7])\n",
    "axs = axs.flat\n",
    "\n",
    "ax = axs[0]\n",
    "pl.sca(ax)\n",
    "ax.set_title(\"Spline approximation to a polynomial\")\n",
    "\n",
    "f = Poly(tf.constant([3, -1, 1, 0, -0.1]))\n",
    "\n",
    "pg = f.get_taylor_grid([[-1, 1, 2, 3]], truncs = 4)\n",
    "a, b = pg.params[0][0], pg.params[0][-1]\n",
    "f.plot([a], [b], c = \"b\", label= \"original polynomial $f$\")\n",
    "\n",
    "pg.plot(c = \"g\")\n",
    "\n",
    "pm = pg.get_spline()\n",
    "pm.plot(c = \"r\", label = \"spline approximation\")\n",
    "\n",
    "ax.legend()\n",
    "\n",
    "## exponential\n",
    "ax = axs[1]\n",
    "pl.sca(ax)\n",
    "ax.set_title(\"Spline approximation to $exp(f)$\")\n",
    "\n",
    "xxx = np.linspace(a, b, 100)\n",
    "yyy = np.exp(f.batch[None](xxx[:, None]))\n",
    "pl.plot(xxx, yyy, c = \"b\", label= \"$exp(f)$\")\n",
    "\n",
    "pg.truncated_exp().plot(c = \"g\")\n",
    "\n",
    "pg.truncated_exp().get_spline().plot(c = \"r\", label = \"spline approximation\")\n",
    "ax.legend()\n",
    "\n",
    "## inverse\n",
    "ax = axs[2]\n",
    "pl.sca(ax)\n",
    "ax.set_title(\"Spline approximation to $ 1 / f$\")\n",
    "\n",
    "xxx = np.linspace(a, b, 100)\n",
    "yyy = 1 / (f.batch[None](xxx[:, None]))\n",
    "pl.plot(xxx, yyy, c = \"b\", label= \"$1/f$\")\n",
    "\n",
    "(1 / pg).plot(c = \"g\")\n",
    "\n",
    "(1 / pg).get_spline().plot(c = \"r\", label = \"spline approximation\")\n",
    "ax.legend(loc = 4)\n",
    "\n"
   ]
  },
  {
   "cell_type": "markdown",
   "metadata": {},
   "source": [
    "#### Example CR-03"
   ]
  },
  {
   "cell_type": "markdown",
   "metadata": {},
   "source": [
    "Original polynomial (class `Poly`)"
   ]
  },
  {
   "cell_type": "code",
   "execution_count": 41,
   "metadata": {
    "ExecuteTime": {
     "end_time": "2020-06-08T08:19:38.722457Z",
     "start_time": "2020-06-08T08:19:37.767450Z"
    }
   },
   "outputs": [
    {
     "data": {
      "image/png": "[encoded data removed]",
      "text/plain": [
       "<Figure size 432x288 with 1 Axes>"
      ]
     },
     "metadata": {
      "needs_background": "light"
     },
     "output_type": "display_data"
    }
   ],
   "source": [
    "f = Poly(tf.constant([[1, 0, 1],\n",
    "                      [0, 0, 0],\n",
    "                      [1, 0, 0],], dtype = K.floatx()))\n",
    "f([0.1, 0.2])\n",
    "f.plot([-1,-1], [1, 1])"
   ]
  },
  {
   "cell_type": "markdown",
   "metadata": {},
   "source": [
    "Its Taylor polynomials at specified grid points (class `TaylorGrid`)"
   ]
  },
  {
   "cell_type": "code",
   "execution_count": 42,
   "metadata": {
    "ExecuteTime": {
     "end_time": "2020-06-08T08:19:49.064189Z",
     "start_time": "2020-06-08T08:19:38.723456Z"
    }
   },
   "outputs": [
    {
     "data": {
      "image/png": "[encoded data removed]",
      "text/plain": [
       "<Figure size 432x288 with 1 Axes>"
      ]
     },
     "metadata": {
      "needs_background": "light"
     },
     "output_type": "display_data"
    }
   ],
   "source": [
    "pg = f.get_taylor_grid([[-1, -1/3, 1/3, 1], [-1, 0, 1]], truncs = 2)\n",
    "pg.plot()"
   ]
  },
  {
   "cell_type": "markdown",
   "metadata": {},
   "source": [
    "Spline reconstruction (class `PolyMesh`)"
   ]
  },
  {
   "cell_type": "code",
   "execution_count": 43,
   "metadata": {
    "ExecuteTime": {
     "end_time": "2020-06-08T08:19:51.473606Z",
     "start_time": "2020-06-08T08:19:49.065228Z"
    }
   },
   "outputs": [
    {
     "data": {
      "image/png": "[encoded data removed]",
      "text/plain": [
       "<Figure size 432x288 with 1 Axes>"
      ]
     },
     "metadata": {
      "needs_background": "light"
     },
     "output_type": "display_data"
    }
   ],
   "source": [
    "pm = pg.get_spline()\n",
    "pm.plot()\n",
    "#pm.contour_plot(levels = np.linspace(-1, 1, 15))"
   ]
  },
  {
   "cell_type": "markdown",
   "metadata": {},
   "source": [
    "## `PolyMesh` operations"
   ]
  },
  {
   "cell_type": "code",
   "execution_count": 44,
   "metadata": {
    "ExecuteTime": {
     "end_time": "2020-06-08T08:19:52.544615Z",
     "start_time": "2020-06-08T08:19:51.474612Z"
    }
   },
   "outputs": [
    {
     "data": {
      "image/png": "[encoded data removed]",
      "text/plain": [
       "<Figure size 432x288 with 1 Axes>"
      ]
     },
     "metadata": {
      "needs_background": "light"
     },
     "output_type": "display_data"
    }
   ],
   "source": [
    "xx = tf.constant([-1, 1, 1.5, 3, 4], K.floatx())\n",
    "\n",
    "f_tg, g_tg = [\n",
    "    TaylorGrid.from_Catmull_Rom(\n",
    "        coef = tf.constant(rnd.randint(10, size = [len(xx)]), dtype= K.floatx()), \n",
    "        params = [xx], \n",
    "    )\n",
    "    for i in range(2)\n",
    "]\n",
    "\n",
    "f_pm, g_pm = [tg.get_spline() for tg in [f_tg, g_tg]]\n",
    "\n",
    "#fig, axs = pl.subplots(1, 2, figsize = [10, 4])\n",
    "\n",
    "f_pm.plot(c = \"g\")\n",
    "f_tg.plot(c = \"g\")\n",
    "g_pm.plot(c = \"b\")\n",
    "g_tg.plot(c = \"b\")\n"
   ]
  },
  {
   "cell_type": "code",
   "execution_count": 45,
   "metadata": {
    "ExecuteTime": {
     "end_time": "2020-06-08T08:19:52.901654Z",
     "start_time": "2020-06-08T08:19:52.545619Z"
    }
   },
   "outputs": [
    {
     "data": {
      "image/png": "[encoded data removed]",
      "text/plain": [
       "<Figure size 432x288 with 1 Axes>"
      ]
     },
     "metadata": {
      "needs_background": "light"
     },
     "output_type": "display_data"
    }
   ],
   "source": [
    "f_pm.der().plot()"
   ]
  },
  {
   "cell_type": "code",
   "execution_count": 46,
   "metadata": {
    "ExecuteTime": {
     "end_time": "2020-06-08T08:19:53.186622Z",
     "start_time": "2020-06-08T08:19:52.902622Z"
    }
   },
   "outputs": [
    {
     "data": {
      "image/png": "[encoded data removed]",
      "text/plain": [
       "<Figure size 432x288 with 1 Axes>"
      ]
     },
     "metadata": {
      "needs_background": "light"
     },
     "output_type": "display_data"
    }
   ],
   "source": [
    "f_pm.der().der().plot()"
   ]
  },
  {
   "cell_type": "code",
   "execution_count": 47,
   "metadata": {
    "ExecuteTime": {
     "end_time": "2020-06-08T08:19:53.473661Z",
     "start_time": "2020-06-08T08:19:53.187624Z"
    }
   },
   "outputs": [
    {
     "data": {
      "image/png": "[encoded data removed]",
      "text/plain": [
       "<Figure size 432x288 with 1 Axes>"
      ]
     },
     "metadata": {
      "needs_background": "light"
     },
     "output_type": "display_data"
    }
   ],
   "source": [
    "f_pm.der().der().der().plot()"
   ]
  },
  {
   "cell_type": "code",
   "execution_count": 48,
   "metadata": {
    "ExecuteTime": {
     "end_time": "2020-06-08T08:19:54.039528Z",
     "start_time": "2020-06-08T08:19:53.474670Z"
    }
   },
   "outputs": [
    {
     "data": {
      "image/png": "[encoded data removed]",
      "text/plain": [
       "<Figure size 432x288 with 1 Axes>"
      ]
     },
     "metadata": {
      "needs_background": "light"
     },
     "output_type": "display_data"
    }
   ],
   "source": [
    "(f_pm + g_pm).plot()\n",
    "(f_tg + g_tg).plot()"
   ]
  },
  {
   "cell_type": "code",
   "execution_count": 49,
   "metadata": {
    "ExecuteTime": {
     "end_time": "2020-06-08T08:19:55.004536Z",
     "start_time": "2020-06-08T08:19:54.040528Z"
    }
   },
   "outputs": [
    {
     "data": {
      "image/png": "[encoded data removed]",
      "text/plain": [
       "<Figure size 432x288 with 1 Axes>"
      ]
     },
     "metadata": {
      "needs_background": "light"
     },
     "output_type": "display_data"
    }
   ],
   "source": [
    "(f_pm * g_pm).plot()\n",
    "(f_tg * g_tg).plot()"
   ]
  },
  {
   "cell_type": "code",
   "execution_count": 50,
   "metadata": {
    "ExecuteTime": {
     "end_time": "2020-06-08T08:19:55.567538Z",
     "start_time": "2020-06-08T08:19:55.005538Z"
    }
   },
   "outputs": [
    {
     "data": {
      "image/png": "[encoded data removed]",
      "text/plain": [
       "<Figure size 432x288 with 1 Axes>"
      ]
     },
     "metadata": {
      "needs_background": "light"
     },
     "output_type": "display_data"
    }
   ],
   "source": [
    "(f_pm - g_pm /2).plot()\n",
    "(f_tg - g_tg /2).plot()"
   ]
  },
  {
   "cell_type": "markdown",
   "metadata": {},
   "source": [
    "#### Test derivatives\n",
    "Derivative of $x^2$ represented as `PolyMesh`."
   ]
  },
  {
   "cell_type": "code",
   "execution_count": 51,
   "metadata": {
    "ExecuteTime": {
     "end_time": "2020-06-08T08:19:55.576576Z",
     "start_time": "2020-06-08T08:19:55.568538Z"
    }
   },
   "outputs": [],
   "source": [
    "p = Poly(tf.constant([0, 0, 1], dtype = K.floatx()))\n",
    "h_tg = p.get_taylor_grid(params = [xx], truncs = 2)"
   ]
  },
  {
   "cell_type": "code",
   "execution_count": 52,
   "metadata": {
    "ExecuteTime": {
     "end_time": "2020-06-08T08:19:55.600539Z",
     "start_time": "2020-06-08T08:19:55.578540Z"
    }
   },
   "outputs": [],
   "source": [
    "h_pm = h_tg.get_spline()"
   ]
  },
  {
   "cell_type": "code",
   "execution_count": 53,
   "metadata": {
    "ExecuteTime": {
     "end_time": "2020-06-08T08:19:56.179579Z",
     "start_time": "2020-06-08T08:19:55.602539Z"
    }
   },
   "outputs": [
    {
     "data": {
      "image/png": "[encoded data removed]",
      "text/plain": [
       "<Figure size 432x288 with 1 Axes>"
      ]
     },
     "metadata": {
      "needs_background": "light"
     },
     "output_type": "display_data"
    }
   ],
   "source": [
    "h_pm.plot()\n",
    "h_tg.plot()"
   ]
  },
  {
   "cell_type": "code",
   "execution_count": 54,
   "metadata": {
    "ExecuteTime": {
     "end_time": "2020-06-08T08:19:56.459543Z",
     "start_time": "2020-06-08T08:19:56.180543Z"
    }
   },
   "outputs": [
    {
     "data": {
      "image/png": "[encoded data removed]",
      "text/plain": [
       "<Figure size 432x288 with 1 Axes>"
      ]
     },
     "metadata": {
      "needs_background": "light"
     },
     "output_type": "display_data"
    }
   ],
   "source": [
    "h_pm.der().plot()"
   ]
  },
  {
   "cell_type": "code",
   "execution_count": 55,
   "metadata": {
    "ExecuteTime": {
     "end_time": "2020-06-08T08:19:56.738563Z",
     "start_time": "2020-06-08T08:19:56.460546Z"
    }
   },
   "outputs": [
    {
     "data": {
      "image/png": "[encoded data removed]",
      "text/plain": [
       "<Figure size 432x288 with 1 Axes>"
      ]
     },
     "metadata": {
      "needs_background": "light"
     },
     "output_type": "display_data"
    }
   ],
   "source": [
    "x_pm = h_pm.der() / 2\n",
    "x_pm.plot()"
   ]
  },
  {
   "cell_type": "code",
   "execution_count": 56,
   "metadata": {
    "ExecuteTime": {
     "end_time": "2020-06-08T08:19:57.441547Z",
     "start_time": "2020-06-08T08:19:56.740545Z"
    }
   },
   "outputs": [
    {
     "name": "stdout",
     "output_type": "stream",
     "text": [
      "WARNING:tensorflow:5 out of the last 20 calls to <function poly_prod at 0x00000177A09F0AF8> triggered tf.function retracing. Tracing is expensive and the excessive number of tracings is likely due to passing python objects instead of tensors. Also, tf.function has experimental_relax_shapes=True option that relaxes argument shapes that can avoid unnecessary retracing. Please refer to https://www.tensorflow.org/tutorials/customization/performance#python_or_tensor_args and https://www.tensorflow.org/api_docs/python/tf/function for more details.\n"
     ]
    },
    {
     "data": {
      "image/png": "[encoded data removed]",
      "text/plain": [
       "<Figure size 432x288 with 1 Axes>"
      ]
     },
     "metadata": {
      "needs_background": "light"
     },
     "output_type": "display_data"
    }
   ],
   "source": [
    "(x_pm * x_pm* x_pm).plot()"
   ]
  },
  {
   "cell_type": "code",
   "execution_count": 57,
   "metadata": {
    "ExecuteTime": {
     "end_time": "2020-06-08T08:19:58.226825Z",
     "start_time": "2020-06-08T08:19:57.442547Z"
    }
   },
   "outputs": [
    {
     "name": "stdout",
     "output_type": "stream",
     "text": [
      "WARNING:tensorflow:6 out of the last 22 calls to <function poly_prod at 0x00000177A09F0AF8> triggered tf.function retracing. Tracing is expensive and the excessive number of tracings is likely due to passing python objects instead of tensors. Also, tf.function has experimental_relax_shapes=True option that relaxes argument shapes that can avoid unnecessary retracing. Please refer to https://www.tensorflow.org/tutorials/customization/performance#python_or_tensor_args and https://www.tensorflow.org/api_docs/python/tf/function for more details.\n",
      "WARNING:tensorflow:7 out of the last 23 calls to <function poly_prod at 0x00000177A09F0AF8> triggered tf.function retracing. Tracing is expensive and the excessive number of tracings is likely due to passing python objects instead of tensors. Also, tf.function has experimental_relax_shapes=True option that relaxes argument shapes that can avoid unnecessary retracing. Please refer to https://www.tensorflow.org/tutorials/customization/performance#python_or_tensor_args and https://www.tensorflow.org/api_docs/python/tf/function for more details.\n"
     ]
    },
    {
     "data": {
      "image/png": "[encoded data removed]",
      "text/plain": [
       "<Figure size 432x288 with 1 Axes>"
      ]
     },
     "metadata": {
      "needs_background": "light"
     },
     "output_type": "display_data"
    }
   ],
   "source": [
    "(x_pm ** 3).plot()"
   ]
  }
 ],
 "metadata": {
  "kernelspec": {
   "display_name": "Python 3",
   "language": "python",
   "name": "python3"
  },
  "language_info": {
   "codemirror_mode": {
    "name": "ipython",
    "version": 3
   },
   "file_extension": ".py",
   "mimetype": "text/x-python",
   "name": "python",
   "nbconvert_exporter": "python",
   "pygments_lexer": "ipython3",
   "version": "3.7.6"
  },
  "toc": {
   "base_numbering": 1,
   "nav_menu": {
    "height": "265px",
    "width": "252px"
   },
   "number_sections": true,
   "sideBar": true,
   "skip_h1_title": false,
   "title_cell": "Table of Contents",
   "title_sidebar": "Contents",
   "toc_cell": false,
   "toc_position": {},
   "toc_section_display": "block",
   "toc_window_display": false
  }
 },
 "nbformat": 4,
 "nbformat_minor": 1
}
